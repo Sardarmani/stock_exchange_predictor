{
 "cells": [
  {
   "cell_type": "code",
   "execution_count": 41,
   "id": "64c45eec-2427-425f-b1a0-ff33d7d69486",
   "metadata": {},
   "outputs": [],
   "source": [
    "import pandas as pd\n",
    "import os"
   ]
  },
  {
   "cell_type": "code",
   "execution_count": 42,
   "id": "c33853cf-c410-4947-89ff-47515a8f3dcc",
   "metadata": {},
   "outputs": [],
   "source": [
    "pak_directory = ('pak_data/')"
   ]
  },
  {
   "cell_type": "code",
   "execution_count": 43,
   "id": "4294a058-ad44-434e-9c18-cfb80890e9f0",
   "metadata": {},
   "outputs": [],
   "source": [
    "ind_directory = ('ind_data/')"
   ]
  },
  {
   "cell_type": "code",
   "execution_count": 57,
   "id": "11bb4c10-9dcf-4c9e-92e6-d0a826675e05",
   "metadata": {},
   "outputs": [],
   "source": [
    "def calculating_7_day_MA(directory):\n",
    "    for file in os.listdir(directory):\n",
    "        filename = os.path.join(directory , file)\n",
    "        data = pd.read_csv(filename)\n",
    "        \n",
    "        # data['Date'] = pd.to_datetime(data['Date'], format='%Y-%m-%d')\n",
    "        data['Date'] = pd.to_datetime(data['Date'], format='%m/%d/%Y')\n",
    "        data  = data.sort_values(by='Date')\n",
    "        # print(data)\n",
    "        # return\n",
    "        if('7_day_MA' in data.columns):\n",
    "            return\n",
    "\n",
    "        if data['Price'].dtype == 'object':\n",
    "            if data['Price'].str.contains(',').any():\n",
    "                data['Price'] = data['Price'].str.replace(',', '', regex=True).astype(float)\n",
    "            else:\n",
    "                data['Price'] = data['Price'].astype(float)\n",
    "\n",
    "        data['7_day_MA']  = data['Price'].rolling(window= 7 ).mean()\n",
    "        \n",
    "        data.to_csv(filename, index=False)\n",
    "        print(filename)"
   ]
  },
  {
   "cell_type": "code",
   "execution_count": 66,
   "id": "fded64d9-d3de-4ceb-9b31-4d76a5cc60ab",
   "metadata": {},
   "outputs": [],
   "source": [
    "def calculating_14_day_MA(directory):\n",
    "    for file in os.listdir(directory):\n",
    "        filename = os.path.join(directory , file)\n",
    "        data = pd.read_csv(filename)\n",
    "        # data['Date'] = pd.to_datetime(data['Date'], format='%m/%d/%Y')\n",
    "        \n",
    "        data['Date'] = pd.to_datetime(data['Date'], format='%Y-%m-%d')\n",
    "        data  = data.sort_values(by='Date')\n",
    "        if('14_day_MA' in data.columns):\n",
    "            return\n",
    "        \n",
    "        if data['Price'].dtype == 'object':\n",
    "            if data['Price'].str.contains(',').any():\n",
    "                data['Price'] = data['Price'].str.replace(',', '', regex=True).astype(float)\n",
    "            else:\n",
    "                data['Price'] = data['Price'].astype(float)\n",
    "\n",
    "        data['14_day_MA']  = data['Price'].rolling(window= 14 ).mean()\n",
    "        \n",
    "        data.to_csv(filename, index=False)\n",
    "        print(filename)"
   ]
  },
  {
   "cell_type": "code",
   "execution_count": 69,
   "id": "c8d8e010-cbab-47a5-b932-cd62736c0043",
   "metadata": {},
   "outputs": [],
   "source": [
    "def calculating_21_day_MA(directory):\n",
    "    for file in os.listdir(directory):\n",
    "        filename = os.path.join(directory , file)\n",
    "        data = pd.read_csv(filename)\n",
    "        data['Date'] = pd.to_datetime(data['Date'], format='%Y-%m-%d')\n",
    "        # data['Date'] = pd.to_datetime(data['Date'], format='%m/%d/%Y')\n",
    "        \n",
    "        data  = data.sort_values(by='Date')\n",
    "        if('21_day_MA' in data.columns):\n",
    "            return\n",
    "\n",
    "        \n",
    "        if data['Price'].dtype == 'object':\n",
    "            if data['Price'].str.contains(',').any():\n",
    "                data['Price'] = data['Price'].str.replace(',', '', regex=True).astype(float)\n",
    "            else:\n",
    "                data['Price'] = data['Price'].astype(float)\n",
    "\n",
    "        data['21_day_MA']  = data['Price'].rolling(window= 21 ).mean()\n",
    "        \n",
    "        data.to_csv(filename, index=False)\n",
    "        print(filename)"
   ]
  },
  {
   "cell_type": "code",
   "execution_count": 72,
   "id": "20afd07e-aeed-41ae-bcdd-34753f06b7d5",
   "metadata": {},
   "outputs": [],
   "source": [
    "def calculating_7_day_std(directory):\n",
    "    \n",
    "    for file in os.listdir(directory):\n",
    "        filename = os.path.join(directory , file)\n",
    "        data = pd.read_csv(filename)\n",
    "        data['Date'] = pd.to_datetime(data['Date'], format='%Y-%m-%d')\n",
    "        # data['Date'] = pd.to_datetime(data['Date'], format='%m/%d/%Y')\n",
    "        \n",
    "        data  = data.sort_values(by='Date')\n",
    "        if('7_day_STD' in data.columns):\n",
    "            return\n",
    "\n",
    "        if data['Price'].dtype == 'object':\n",
    "            if data['Price'].str.contains(',').any():\n",
    "                data['Price'] = data['Price'].str.replace(',', '', regex=True).astype(float)\n",
    "            else:\n",
    "                data['Price'] = data['Price'].astype(float)\n",
    "\n",
    "        data['7_day_STD']  = data['Price'].rolling(window= 7 ).std()\n",
    "        \n",
    "        data.to_csv(filename, index=False)\n",
    "        print(filename)"
   ]
  },
  {
   "cell_type": "code",
   "execution_count": 63,
   "id": "e7cef338-7ca5-4b4e-bd31-bf53def19244",
   "metadata": {},
   "outputs": [
    {
     "ename": "ValueError",
     "evalue": "time data '2000-01-03' does not match format '%m/%d/%Y' (match)",
     "output_type": "error",
     "traceback": [
      "\u001b[0;31m---------------------------------------------------------------------------\u001b[0m",
      "\u001b[0;31mValueError\u001b[0m                                Traceback (most recent call last)",
      "Cell \u001b[0;32mIn[63], line 1\u001b[0m\n\u001b[0;32m----> 1\u001b[0m \u001b[43mcalculating_7_day_MA\u001b[49m\u001b[43m(\u001b[49m\u001b[43mpak_directory\u001b[49m\u001b[43m)\u001b[49m\n\u001b[1;32m      2\u001b[0m calculating_14_day_MA(pak_directory)\n\u001b[1;32m      3\u001b[0m calculating_21_day_MA(pak_directory)\n",
      "Cell \u001b[0;32mIn[57], line 7\u001b[0m, in \u001b[0;36mcalculating_7_day_MA\u001b[0;34m(directory)\u001b[0m\n\u001b[1;32m      4\u001b[0m data \u001b[38;5;241m=\u001b[39m pd\u001b[38;5;241m.\u001b[39mread_csv(filename)\n\u001b[1;32m      6\u001b[0m \u001b[38;5;66;03m# data['Date'] = pd.to_datetime(data['Date'], format='%Y-%m-%d')\u001b[39;00m\n\u001b[0;32m----> 7\u001b[0m data[\u001b[38;5;124m'\u001b[39m\u001b[38;5;124mDate\u001b[39m\u001b[38;5;124m'\u001b[39m] \u001b[38;5;241m=\u001b[39m \u001b[43mpd\u001b[49m\u001b[38;5;241;43m.\u001b[39;49m\u001b[43mto_datetime\u001b[49m\u001b[43m(\u001b[49m\u001b[43mdata\u001b[49m\u001b[43m[\u001b[49m\u001b[38;5;124;43m'\u001b[39;49m\u001b[38;5;124;43mDate\u001b[39;49m\u001b[38;5;124;43m'\u001b[39;49m\u001b[43m]\u001b[49m\u001b[43m,\u001b[49m\u001b[43m \u001b[49m\u001b[38;5;28;43mformat\u001b[39;49m\u001b[38;5;241;43m=\u001b[39;49m\u001b[38;5;124;43m'\u001b[39;49m\u001b[38;5;124;43m%\u001b[39;49m\u001b[38;5;124;43mm/\u001b[39;49m\u001b[38;5;132;43;01m%d\u001b[39;49;00m\u001b[38;5;124;43m/\u001b[39;49m\u001b[38;5;124;43m%\u001b[39;49m\u001b[38;5;124;43mY\u001b[39;49m\u001b[38;5;124;43m'\u001b[39;49m\u001b[43m)\u001b[49m\n\u001b[1;32m      8\u001b[0m data  \u001b[38;5;241m=\u001b[39m data\u001b[38;5;241m.\u001b[39msort_values(by\u001b[38;5;241m=\u001b[39m\u001b[38;5;124m'\u001b[39m\u001b[38;5;124mDate\u001b[39m\u001b[38;5;124m'\u001b[39m)\n\u001b[1;32m      9\u001b[0m \u001b[38;5;66;03m# print(data)\u001b[39;00m\n\u001b[1;32m     10\u001b[0m \u001b[38;5;66;03m# return\u001b[39;00m\n",
      "File \u001b[0;32m~/anaconda3/lib/python3.10/site-packages/pandas/core/tools/datetimes.py:1068\u001b[0m, in \u001b[0;36mto_datetime\u001b[0;34m(arg, errors, dayfirst, yearfirst, utc, format, exact, unit, infer_datetime_format, origin, cache)\u001b[0m\n\u001b[1;32m   1066\u001b[0m         result \u001b[38;5;241m=\u001b[39m arg\u001b[38;5;241m.\u001b[39mmap(cache_array)\n\u001b[1;32m   1067\u001b[0m     \u001b[38;5;28;01melse\u001b[39;00m:\n\u001b[0;32m-> 1068\u001b[0m         values \u001b[38;5;241m=\u001b[39m \u001b[43mconvert_listlike\u001b[49m\u001b[43m(\u001b[49m\u001b[43marg\u001b[49m\u001b[38;5;241;43m.\u001b[39;49m\u001b[43m_values\u001b[49m\u001b[43m,\u001b[49m\u001b[43m \u001b[49m\u001b[38;5;28;43mformat\u001b[39;49m\u001b[43m)\u001b[49m\n\u001b[1;32m   1069\u001b[0m         result \u001b[38;5;241m=\u001b[39m arg\u001b[38;5;241m.\u001b[39m_constructor(values, index\u001b[38;5;241m=\u001b[39marg\u001b[38;5;241m.\u001b[39mindex, name\u001b[38;5;241m=\u001b[39marg\u001b[38;5;241m.\u001b[39mname)\n\u001b[1;32m   1070\u001b[0m \u001b[38;5;28;01melif\u001b[39;00m \u001b[38;5;28misinstance\u001b[39m(arg, (ABCDataFrame, abc\u001b[38;5;241m.\u001b[39mMutableMapping)):\n",
      "File \u001b[0;32m~/anaconda3/lib/python3.10/site-packages/pandas/core/tools/datetimes.py:430\u001b[0m, in \u001b[0;36m_convert_listlike_datetimes\u001b[0;34m(arg, format, name, tz, unit, errors, infer_datetime_format, dayfirst, yearfirst, exact)\u001b[0m\n\u001b[1;32m    427\u001b[0m         \u001b[38;5;28mformat\u001b[39m \u001b[38;5;241m=\u001b[39m \u001b[38;5;28;01mNone\u001b[39;00m\n\u001b[1;32m    429\u001b[0m \u001b[38;5;28;01mif\u001b[39;00m \u001b[38;5;28mformat\u001b[39m \u001b[38;5;129;01mis\u001b[39;00m \u001b[38;5;129;01mnot\u001b[39;00m \u001b[38;5;28;01mNone\u001b[39;00m:\n\u001b[0;32m--> 430\u001b[0m     res \u001b[38;5;241m=\u001b[39m \u001b[43m_to_datetime_with_format\u001b[49m\u001b[43m(\u001b[49m\n\u001b[1;32m    431\u001b[0m \u001b[43m        \u001b[49m\u001b[43marg\u001b[49m\u001b[43m,\u001b[49m\u001b[43m \u001b[49m\u001b[43morig_arg\u001b[49m\u001b[43m,\u001b[49m\u001b[43m \u001b[49m\u001b[43mname\u001b[49m\u001b[43m,\u001b[49m\u001b[43m \u001b[49m\u001b[43mtz\u001b[49m\u001b[43m,\u001b[49m\u001b[43m \u001b[49m\u001b[38;5;28;43mformat\u001b[39;49m\u001b[43m,\u001b[49m\u001b[43m \u001b[49m\u001b[43mexact\u001b[49m\u001b[43m,\u001b[49m\u001b[43m \u001b[49m\u001b[43merrors\u001b[49m\u001b[43m,\u001b[49m\u001b[43m \u001b[49m\u001b[43minfer_datetime_format\u001b[49m\n\u001b[1;32m    432\u001b[0m \u001b[43m    \u001b[49m\u001b[43m)\u001b[49m\n\u001b[1;32m    433\u001b[0m     \u001b[38;5;28;01mif\u001b[39;00m res \u001b[38;5;129;01mis\u001b[39;00m \u001b[38;5;129;01mnot\u001b[39;00m \u001b[38;5;28;01mNone\u001b[39;00m:\n\u001b[1;32m    434\u001b[0m         \u001b[38;5;28;01mreturn\u001b[39;00m res\n",
      "File \u001b[0;32m~/anaconda3/lib/python3.10/site-packages/pandas/core/tools/datetimes.py:538\u001b[0m, in \u001b[0;36m_to_datetime_with_format\u001b[0;34m(arg, orig_arg, name, tz, fmt, exact, errors, infer_datetime_format)\u001b[0m\n\u001b[1;32m    535\u001b[0m         \u001b[38;5;28;01mreturn\u001b[39;00m _box_as_indexlike(result, utc\u001b[38;5;241m=\u001b[39mutc, name\u001b[38;5;241m=\u001b[39mname)\n\u001b[1;32m    537\u001b[0m \u001b[38;5;66;03m# fallback\u001b[39;00m\n\u001b[0;32m--> 538\u001b[0m res \u001b[38;5;241m=\u001b[39m \u001b[43m_array_strptime_with_fallback\u001b[49m\u001b[43m(\u001b[49m\n\u001b[1;32m    539\u001b[0m \u001b[43m    \u001b[49m\u001b[43marg\u001b[49m\u001b[43m,\u001b[49m\u001b[43m \u001b[49m\u001b[43mname\u001b[49m\u001b[43m,\u001b[49m\u001b[43m \u001b[49m\u001b[43mtz\u001b[49m\u001b[43m,\u001b[49m\u001b[43m \u001b[49m\u001b[43mfmt\u001b[49m\u001b[43m,\u001b[49m\u001b[43m \u001b[49m\u001b[43mexact\u001b[49m\u001b[43m,\u001b[49m\u001b[43m \u001b[49m\u001b[43merrors\u001b[49m\u001b[43m,\u001b[49m\u001b[43m \u001b[49m\u001b[43minfer_datetime_format\u001b[49m\n\u001b[1;32m    540\u001b[0m \u001b[43m\u001b[49m\u001b[43m)\u001b[49m\n\u001b[1;32m    541\u001b[0m \u001b[38;5;28;01mreturn\u001b[39;00m res\n",
      "File \u001b[0;32m~/anaconda3/lib/python3.10/site-packages/pandas/core/tools/datetimes.py:473\u001b[0m, in \u001b[0;36m_array_strptime_with_fallback\u001b[0;34m(arg, name, tz, fmt, exact, errors, infer_datetime_format)\u001b[0m\n\u001b[1;32m    470\u001b[0m utc \u001b[38;5;241m=\u001b[39m tz \u001b[38;5;241m==\u001b[39m \u001b[38;5;124m\"\u001b[39m\u001b[38;5;124mutc\u001b[39m\u001b[38;5;124m\"\u001b[39m\n\u001b[1;32m    472\u001b[0m \u001b[38;5;28;01mtry\u001b[39;00m:\n\u001b[0;32m--> 473\u001b[0m     result, timezones \u001b[38;5;241m=\u001b[39m \u001b[43marray_strptime\u001b[49m\u001b[43m(\u001b[49m\u001b[43marg\u001b[49m\u001b[43m,\u001b[49m\u001b[43m \u001b[49m\u001b[43mfmt\u001b[49m\u001b[43m,\u001b[49m\u001b[43m \u001b[49m\u001b[43mexact\u001b[49m\u001b[38;5;241;43m=\u001b[39;49m\u001b[43mexact\u001b[49m\u001b[43m,\u001b[49m\u001b[43m \u001b[49m\u001b[43merrors\u001b[49m\u001b[38;5;241;43m=\u001b[39;49m\u001b[43merrors\u001b[49m\u001b[43m)\u001b[49m\n\u001b[1;32m    474\u001b[0m \u001b[38;5;28;01mexcept\u001b[39;00m OutOfBoundsDatetime:\n\u001b[1;32m    475\u001b[0m     \u001b[38;5;28;01mif\u001b[39;00m errors \u001b[38;5;241m==\u001b[39m \u001b[38;5;124m\"\u001b[39m\u001b[38;5;124mraise\u001b[39m\u001b[38;5;124m\"\u001b[39m:\n",
      "File \u001b[0;32m~/anaconda3/lib/python3.10/site-packages/pandas/_libs/tslibs/strptime.pyx:150\u001b[0m, in \u001b[0;36mpandas._libs.tslibs.strptime.array_strptime\u001b[0;34m()\u001b[0m\n",
      "\u001b[0;31mValueError\u001b[0m: time data '2000-01-03' does not match format '%m/%d/%Y' (match)"
     ]
    }
   ],
   "source": [
    "calculating_7_day_MA(pak_directory)\n",
    "calculating_14_day_MA(pak_directory)\n",
    "calculating_21_day_MA(pak_directory)\n",
    "calculating_7_day_std(pak_directory)"
   ]
  },
  {
   "cell_type": "code",
   "execution_count": 73,
   "id": "5a07fdd8-04ea-4615-a22a-2f8490d930ac",
   "metadata": {},
   "outputs": [
    {
     "name": "stdout",
     "output_type": "stream",
     "text": [
      "ind_data/URJA Historical Data.csv\n",
      "ind_data/NTPC Historical Data.csv\n",
      "ind_data/LTIM Historical Data.csv\n",
      "ind_data/NATP Historical Data.csv\n",
      "ind_data/CIPL Historical Data.csv\n",
      "ind_data/ABUJ Historical Data.csv\n",
      "ind_data/JSWE Historical Data.csv\n",
      "ind_data/SHCM Historical Data.csv\n",
      "ind_data/SNGI Historical Data.csv\n",
      "ind_data/ZENT Historical Data.csv\n",
      "ind_data/PGRD Historical Data.csv\n",
      "ind_data/INFY Historical Data.csv\n",
      "ind_data/TAKE Historical Data.csv\n",
      "ind_data/TCS Historical Data.csv\n",
      "ind_data/GLEN Historical Data.csv\n",
      "ind_data/ACC Historical Data.csv\n"
     ]
    }
   ],
   "source": [
    "# calculating_7_day_MA(ind_directory)\n",
    "calculating_14_day_MA(ind_directory)\n",
    "calculating_21_day_MA(ind_directory)\n",
    "calculating_7_day_std(ind_directory)"
   ]
  },
  {
   "cell_type": "code",
   "execution_count": 21,
   "id": "cf95a439-118e-439f-afcd-8e56bd1e2696",
   "metadata": {},
   "outputs": [],
   "source": [
    "def handling_missing_values(directory):\n",
    "    for file in os.listdir(directory):\n",
    "        filename = os.path.join(directory , file)\n",
    "        df = pd.read_csv(filename)\n",
    "        df['7_day_MA'].fillna(method='bfill', inplace=True)\n",
    "        df['14_day_MA'].fillna(method='bfill', inplace=True)\n",
    "        df['21_day_MA'].fillna(method='bfill', inplace=True)\n",
    "        df['7_day_STD'].fillna(method='bfill', inplace=True)\n",
    "        df.to_csv(filename, index=False)\n",
    "        "
   ]
  },
  {
   "cell_type": "code",
   "execution_count": 22,
   "id": "25c96426-d5cc-43bb-ac5c-13d206dc8b42",
   "metadata": {},
   "outputs": [],
   "source": [
    "handling_missing_values(pak_directory)"
   ]
  },
  {
   "cell_type": "code",
   "execution_count": 23,
   "id": "2f3a459b-31fb-459f-9edf-e2f4587544fd",
   "metadata": {},
   "outputs": [],
   "source": [
    "handling_missing_values(ind_directory)"
   ]
  },
  {
   "cell_type": "code",
   "execution_count": 67,
   "id": "6cb2dc20-8578-4544-a8c7-b028a6109ade",
   "metadata": {},
   "outputs": [],
   "source": [
    "def add_lag_feature(directory):\n",
    "    num_lags = 3\n",
    "    for file in os.listdir(directory):\n",
    "        filename = os.path.join(directory , file)\n",
    "        df = pd.read_csv(filename)\n",
    "        for i in range(1,num_lags+1):\n",
    "            df[f\"price_lag{i}\"] = df['Price'].shift(i)\n",
    "            \n",
    "        df.to_csv(filename, index=False)\n"
   ]
  },
  {
   "cell_type": "code",
   "execution_count": 55,
   "id": "3095577e-97e1-4d17-b8a3-e6703503f7b6",
   "metadata": {},
   "outputs": [],
   "source": [
    "add_lag_feature(pak_directory)"
   ]
  },
  {
   "cell_type": "code",
   "execution_count": 98,
   "id": "bdb3e4dc-285a-4c80-a533-8210e32e815c",
   "metadata": {},
   "outputs": [],
   "source": [
    "def handle_lag_missing_values(directory):\n",
    "    for file in os.listdir(directory):\n",
    "        filename = os.path.join(directory , file)\n",
    "        df = pd.read_csv(filename)\n",
    "        for i in range (1 , 4):\n",
    "            df[f\"price_lag{i}\"].fillna(method='bfill', inplace=True)\n",
    "        df.to_csv(filename, index=False)\n"
   ]
  },
  {
   "cell_type": "code",
   "execution_count": 99,
   "id": "9bef62c5-4154-45fc-b85a-8f38e092cd66",
   "metadata": {},
   "outputs": [],
   "source": [
    "handle_lag_missing_values(pak_directory)"
   ]
  },
  {
   "cell_type": "code",
   "execution_count": 100,
   "id": "8d82dfdb-7e34-4813-9880-7ba0ca12199c",
   "metadata": {},
   "outputs": [],
   "source": [
    "def combine_file(directory):\n",
    "    dfs = []\n",
    "    for file in os.listdir(directory):\n",
    "        filename = os.path.join(directory , file)\n",
    "        df = pd.read_csv(filename)\n",
    "        symbol = file.split(' Historical Data.csv')[0]\n",
    "        df['Company'] = symbol\n",
    "        dfs.append(df)\n",
    "    \n",
    "    combined_df = pd.concat(dfs, ignore_index=True)\n",
    "    return combined_df"
   ]
  },
  {
   "cell_type": "code",
   "execution_count": 120,
   "id": "4d8e0158-69d8-4578-a4ab-5a2daa3cd246",
   "metadata": {},
   "outputs": [],
   "source": [
    "pak_combined_file  = combine_file(pak_directory)"
   ]
  },
  {
   "cell_type": "code",
   "execution_count": null,
   "id": "306b14b9-93de-4a73-be42-37af4925d511",
   "metadata": {},
   "outputs": [],
   "source": []
  },
  {
   "cell_type": "code",
   "execution_count": null,
   "id": "74325637-a7f5-4a23-bec5-16e710fd09a0",
   "metadata": {},
   "outputs": [],
   "source": []
  },
  {
   "cell_type": "code",
   "execution_count": 26,
   "id": "052e7a4f-02a0-419e-b874-7d0f57592bdb",
   "metadata": {},
   "outputs": [],
   "source": [
    "ind_combined_file = combine_file(ind_directory)"
   ]
  },
  {
   "cell_type": "code",
   "execution_count": 27,
   "id": "c0d754b1-8c52-456a-b008-d9a0a88470e2",
   "metadata": {},
   "outputs": [
    {
     "data": {
      "text/plain": [
       "array(['URJA', 'NTPC', 'LTIM', 'NATP', 'CIPL', 'ABUJ', 'JSWE', 'SHCM',\n",
       "       'SNGI', 'ZENT', 'PGRD', 'INFY', 'TAKE', 'TCS', 'GLEN', 'ACC'],\n",
       "      dtype=object)"
      ]
     },
     "execution_count": 27,
     "metadata": {},
     "output_type": "execute_result"
    }
   ],
   "source": [
    "ind_symols = ind_combined_file['Company'].unique()\n",
    "ind_symols"
   ]
  },
  {
   "cell_type": "code",
   "execution_count": 121,
   "id": "e80cee5f-83f2-4333-8c5f-d8ffb4768f67",
   "metadata": {},
   "outputs": [],
   "source": [
    "pak_symols = pak_combined_file['Company'].unique()"
   ]
  },
  {
   "cell_type": "code",
   "execution_count": 122,
   "id": "d4029cf1-0d09-443a-94e4-0d5b1ef1df4e",
   "metadata": {},
   "outputs": [],
   "source": [
    "ind_sectors_dict = {\n",
    "    'URJA' : 'power',\n",
    "    'NATP' : 'power',\n",
    "    'JSWE' : 'power',\n",
    "    'PGRD' : 'power',\n",
    "    'ABUJ' : 'cement',\n",
    "    'ACC' : 'cement',\n",
    "    'SHCM' : 'cement',\n",
    "    'SNGI' : 'cement',\n",
    "    'TCS' : 'IT',\n",
    "    'ZENT' : 'IT',\n",
    "    'INFY' : 'IT',\n",
    "    'LTIM' : 'IT',\n",
    "    'TAKE' : 'pharma',\n",
    "    'CIPL' : 'pharma',\n",
    "    'GLEN' : 'pharma',\n",
    "    'NTPC' : 'pharma'\n",
    " }\n"
   ]
  },
  {
   "cell_type": "code",
   "execution_count": 123,
   "id": "85bbd7b2-67bc-4d8f-9255-ad9a77abd5df",
   "metadata": {},
   "outputs": [
    {
     "data": {
      "text/plain": [
       "array(['PTCA', 'BEST', 'CITI', 'AGPL', 'NTSL', 'TRGP', 'ATOC', 'AVAN',\n",
       "       'KOTA', 'PKPL', 'MPLF', 'ABBT', 'HPWR', 'FAUC', 'FERO', 'NCPL'],\n",
       "      dtype=object)"
      ]
     },
     "execution_count": 123,
     "metadata": {},
     "output_type": "execute_result"
    }
   ],
   "source": [
    "pak_symols"
   ]
  },
  {
   "cell_type": "code",
   "execution_count": 124,
   "id": "855f6886-8f23-4906-bafe-033b9d2dade0",
   "metadata": {},
   "outputs": [],
   "source": [
    "pak_sectors_dict = {\n",
    "    'NCPL' : 'power',\n",
    "    'HPWR' : 'power',\n",
    "    'PKPL' : 'power',\n",
    "    'KOTA' : 'power',\n",
    "    'MPLF' : 'cement',\n",
    "    'FAUC' : 'cement',\n",
    "    'ATOC' : 'cement',\n",
    "    'BEST' : 'cement',\n",
    "    'NTSL' : 'IT',\n",
    "    'PTCA' : 'IT',\n",
    "    'AVAN' : 'IT',\n",
    "    'TRGP' : 'IT',\n",
    "    'CITI' : 'pharma',\n",
    "    'AGPL' : 'pharma',\n",
    "    'FERO' : 'pharma',\n",
    "    'ABBT' : 'pharma'\n",
    "\n",
    "}"
   ]
  },
  {
   "cell_type": "code",
   "execution_count": 125,
   "id": "54460bd5-b2d3-4328-bb7d-4771f599fa49",
   "metadata": {},
   "outputs": [],
   "source": [
    "pak_combined_file['sectors'] = pak_combined_file['Company'].map(pak_sectors_dict)"
   ]
  },
  {
   "cell_type": "code",
   "execution_count": 126,
   "id": "44b674d4-b0b6-4ffe-bb22-da34ecda6b8c",
   "metadata": {},
   "outputs": [],
   "source": [
    "pak_combined_file.to_csv('pak_combined.csv')"
   ]
  },
  {
   "cell_type": "code",
   "execution_count": 34,
   "id": "8330992c-8b03-4fc0-b615-4050b5a99610",
   "metadata": {},
   "outputs": [],
   "source": [
    "ind_combined_file['sectors'] = ind_combined_file['Company'].map(ind_sectors_dict)"
   ]
  },
  {
   "cell_type": "code",
   "execution_count": 35,
   "id": "b63d38d9-fea1-45b1-ac51-4a76221fc101",
   "metadata": {},
   "outputs": [
    {
     "data": {
      "text/plain": [
       "Date          0\n",
       "Price         0\n",
       "Open          0\n",
       "High          0\n",
       "Low           0\n",
       "Vol.         11\n",
       "Change %      0\n",
       "7_day_MA      0\n",
       "14_day_MA     0\n",
       "21_day_MA     0\n",
       "7_day_STD     0\n",
       "Company       0\n",
       "sectors       0\n",
       "dtype: int64"
      ]
     },
     "execution_count": 35,
     "metadata": {},
     "output_type": "execute_result"
    }
   ],
   "source": [
    "ind_combined_file.isna().sum()"
   ]
  },
  {
   "cell_type": "code",
   "execution_count": 36,
   "id": "ede6b0b3-8fb6-4dac-b193-3b33dfb07210",
   "metadata": {},
   "outputs": [],
   "source": [
    "ind_combined_file.to_csv('ind_combined.csv')"
   ]
  },
  {
   "cell_type": "code",
   "execution_count": 130,
   "id": "4609df68-0144-452f-a527-a2a59255119e",
   "metadata": {},
   "outputs": [],
   "source": [
    "da = pd.read_csv('pak_combined.csv', )"
   ]
  },
  {
   "cell_type": "code",
   "execution_count": 134,
   "id": "2cdb1932-d7ab-4149-b97d-859a2fd7bd9b",
   "metadata": {},
   "outputs": [
    {
     "data": {
      "text/plain": [
       "dtype('O')"
      ]
     },
     "execution_count": 134,
     "metadata": {},
     "output_type": "execute_result"
    }
   ],
   "source": [
    "da['Low'].dtyp"
   ]
  },
  {
   "cell_type": "code",
   "execution_count": 131,
   "id": "e71c2dff-37bc-452b-b863-90b7520904ff",
   "metadata": {},
   "outputs": [],
   "source": [
    "if pak_combined_file['Low'].dtype == 'object':\n",
    "            if pak_combined_file['Low'].str.contains(',').any():\n",
    "                pak_combined_file['Low'] = pak_combined_file['Low'].str.replace(',', '', regex=True).astype(float)\n",
    "            "
   ]
  },
  {
   "cell_type": "code",
   "execution_count": 132,
   "id": "55fab36c-8e4b-4867-8617-0029e558f507",
   "metadata": {},
   "outputs": [
    {
     "data": {
      "text/plain": [
       "Date              0\n",
       "Price             0\n",
       "Open              0\n",
       "High              0\n",
       "Low           57617\n",
       "Vol.             11\n",
       "Change %          0\n",
       "7_day_MA          0\n",
       "14_day_MA         0\n",
       "21_day_MA         0\n",
       "7_day_STD         0\n",
       "price_lag1        0\n",
       "price_lag2        0\n",
       "price_lag3        0\n",
       "Company           0\n",
       "sectors           0\n",
       "dtype: int64"
      ]
     },
     "execution_count": 132,
     "metadata": {},
     "output_type": "execute_result"
    }
   ],
   "source": [
    "pak_combined_file.isna().sum()"
   ]
  },
  {
   "cell_type": "code",
   "execution_count": 2,
   "id": "e8e53647-71bb-418b-a4ba-e37690304b05",
   "metadata": {},
   "outputs": [],
   "source": []
  },
  {
   "cell_type": "code",
   "execution_count": 67,
   "id": "f58a2e55-589f-4af6-8f96-c3f087a18a42",
   "metadata": {},
   "outputs": [],
   "source": []
  },
  {
   "cell_type": "code",
   "execution_count": null,
   "id": "8a25a57d-aa4e-4f00-ad21-70eef3dd5e2c",
   "metadata": {},
   "outputs": [],
   "source": []
  },
  {
   "cell_type": "code",
   "execution_count": null,
   "id": "f057342f-77c7-431a-b3d2-ddf34eea80f6",
   "metadata": {},
   "outputs": [],
   "source": []
  }
 ],
 "metadata": {
  "kernelspec": {
   "display_name": "Python 3",
   "language": "python",
   "name": "python3"
  },
  "language_info": {
   "codemirror_mode": {
    "name": "ipython",
    "version": 3
   },
   "file_extension": ".py",
   "mimetype": "text/x-python",
   "name": "python",
   "nbconvert_exporter": "python",
   "pygments_lexer": "ipython3",
   "version": "3.8.5"
  }
 },
 "nbformat": 4,
 "nbformat_minor": 5
}
